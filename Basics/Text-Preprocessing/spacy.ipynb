{
 "cells": [
  {
   "cell_type": "markdown",
   "source": [
    "# Spacy Tutorial"
   ],
   "metadata": {}
  },
  {
   "cell_type": "code",
   "execution_count": null,
   "source": [],
   "outputs": [],
   "metadata": {}
  }
 ],
 "metadata": {
  "orig_nbformat": 4,
  "language_info": {
   "name": "plaintext"
  }
 },
 "nbformat": 4,
 "nbformat_minor": 2
}