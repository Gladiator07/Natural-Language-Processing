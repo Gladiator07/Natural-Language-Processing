{
  "nbformat": 4,
  "nbformat_minor": 0,
  "metadata": {
    "orig_nbformat": 4,
    "colab": {
      "name": "spacy.ipynb",
      "provenance": [],
      "include_colab_link": true
    },
    "language_info": {
      "name": "python"
    },
    "kernelspec": {
      "name": "python3",
      "display_name": "Python 3"
    }
  },
  "cells": [
    {
      "cell_type": "markdown",
      "metadata": {
        "id": "view-in-github",
        "colab_type": "text"
      },
      "source": [
        "<a href=\"https://colab.research.google.com/github/Gladiator07/Natural-Language-Processing/blob/main/Basics/Text-Preprocessing/spacy.ipynb\" target=\"_parent\"><img src=\"https://colab.research.google.com/assets/colab-badge.svg\" alt=\"Open In Colab\"/></a>"
      ]
    },
    {
      "cell_type": "markdown",
      "metadata": {
        "id": "TvjWN2EYH9-_"
      },
      "source": [
        "# Spacy Tutorial"
      ]
    },
    {
      "cell_type": "markdown",
      "metadata": {
        "id": "a5l_Odg1IDoT"
      },
      "source": [
        "### References\n",
        "- [Overview of Spacy](https://www.analyticsvidhya.com/blog/2020/03/spacy-tutorial-learn-natural-language-processing/)\n",
        "- [Comprehensive article](https://www.machinelearningplus.com/spacy-tutorial-nlp/)"
      ]
    },
    {
      "cell_type": "markdown",
      "metadata": {
        "id": "913dxs1GIZb8"
      },
      "source": [
        "## Spacy's Processing Pipeline\n",
        "\n",
        "![](https://cdn.analyticsvidhya.com/wp-content/uploads/2020/03/spacy_pipeline.png)"
      ]
    },
    {
      "cell_type": "markdown",
      "metadata": {
        "id": "NwrbuGIEIh-2"
      },
      "source": [
        "The first step for a text string, when working with spaCy, is to pass it to an NLP object. This object is essentially a pipeline of several text pre-processing operations through which the input text string has to go through."
      ]
    },
    {
      "cell_type": "code",
      "metadata": {
        "id": "C5PMzW-AIhWP"
      },
      "source": [
        "import spacy\n",
        "nlp = spacy.load('en_core_web_sm')"
      ],
      "execution_count": 1,
      "outputs": []
    },
    {
      "cell_type": "code",
      "metadata": {
        "id": "ErlyuvqTH9_B"
      },
      "source": [
        "# create an nlp object\n",
        "doc = nlp(\"He went to play basketball\")"
      ],
      "execution_count": 2,
      "outputs": []
    },
    {
      "cell_type": "code",
      "metadata": {
        "id": "K3i2-63RIvus",
        "outputId": "da6600fb-5b59-4a9b-eab9-389c3ad41927",
        "colab": {
          "base_uri": "https://localhost:8080/"
        }
      },
      "source": [
        "# seeing the active pipelines\n",
        "nlp.pipe_names"
      ],
      "execution_count": 3,
      "outputs": [
        {
          "output_type": "execute_result",
          "data": {
            "text/plain": [
              "['tagger', 'parser', 'ner']"
            ]
          },
          "metadata": {},
          "execution_count": 3
        }
      ]
    },
    {
      "cell_type": "code",
      "metadata": {
        "id": "9S6ipj6LI0cM",
        "outputId": "af514ce3-13aa-4065-f845-ddbfc5b481ea",
        "colab": {
          "base_uri": "https://localhost:8080/"
        }
      },
      "source": [
        "# disable pipeline components (if not required, can save up the computation)\n",
        "nlp.disable_pipes('tagger', 'parser')"
      ],
      "execution_count": 4,
      "outputs": [
        {
          "output_type": "execute_result",
          "data": {
            "text/plain": [
              "[('tagger', <spacy.pipeline.pipes.Tagger at 0x7fb2e6b0fd90>),\n",
              " ('parser', <spacy.pipeline.pipes.DependencyParser at 0x7fb2e6cd9980>)]"
            ]
          },
          "metadata": {},
          "execution_count": 4
        }
      ]
    },
    {
      "cell_type": "code",
      "metadata": {
        "id": "M7OzXq-7I_G8",
        "outputId": "bac37e72-fad5-42a0-a7a6-7c7915cc485d",
        "colab": {
          "base_uri": "https://localhost:8080/"
        }
      },
      "source": [
        "nlp.pipe_names"
      ],
      "execution_count": 5,
      "outputs": [
        {
          "output_type": "execute_result",
          "data": {
            "text/plain": [
              "['ner']"
            ]
          },
          "metadata": {},
          "execution_count": 5
        }
      ]
    },
    {
      "cell_type": "markdown",
      "metadata": {
        "id": "_vcWtbYuJHbU"
      },
      "source": [
        "## 1.POS Tagging (Part-of-Speech)"
      ]
    },
    {
      "cell_type": "markdown",
      "metadata": {
        "id": "-O0r-vBMJMfL"
      },
      "source": [
        "In English grammar, the parts of speech tell us what is the function of a word and how it is used in a sentence. Some of the common parts of speech in English are Noun, Pronoun, Adjective, Verb, Adverb, etc.\n",
        "\n",
        "POS tagging is the task of automatically assigning POS tags to all the words of a sentence. It is helpful in various downstream tasks in NLP, such as feature engineering, language understanding, and information extraction."
      ]
    },
    {
      "cell_type": "code",
      "metadata": {
        "id": "mQO3RZ4nJAmc",
        "outputId": "9b8e1030-25b8-4040-8f4a-6d82b62267f5",
        "colab": {
          "base_uri": "https://localhost:8080/"
        }
      },
      "source": [
        "nlp = spacy.load('en_core_web_sm')\n",
        "\n",
        "# create an nlp object\n",
        "doc = nlp(\"He went to play basketball\")\n",
        "\n",
        "# iterate over the tokens\n",
        "for token in doc:\n",
        "    print(token.text, \"-->\", token.pos_)\n",
        "    # print(token)"
      ],
      "execution_count": 8,
      "outputs": [
        {
          "output_type": "stream",
          "name": "stdout",
          "text": [
            "basketball --> NOUN\n"
          ]
        }
      ]
    },
    {
      "cell_type": "code",
      "metadata": {
        "id": "qlI0GNJXJgxs"
      },
      "source": [
        ""
      ],
      "execution_count": null,
      "outputs": []
    }
  ]
}