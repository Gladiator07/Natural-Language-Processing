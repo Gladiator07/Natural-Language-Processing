{
  "nbformat": 4,
  "nbformat_minor": 0,
  "metadata": {
    "colab": {
      "name": "PyTorch-RNN.ipynb",
      "provenance": [],
      "collapsed_sections": [],
      "include_colab_link": true
    },
    "kernelspec": {
      "name": "python3",
      "display_name": "Python 3"
    },
    "language_info": {
      "name": "python"
    }
  },
  "cells": [
    {
      "cell_type": "markdown",
      "metadata": {
        "id": "view-in-github",
        "colab_type": "text"
      },
      "source": [
        "<a href=\"https://colab.research.google.com/github/Gladiator07/Natural-Language-Processing/blob/main/RNN/PyTorch_RNN.ipynb\" target=\"_parent\"><img src=\"https://colab.research.google.com/assets/colab-badge.svg\" alt=\"Open In Colab\"/></a>"
      ]
    },
    {
      "cell_type": "code",
      "metadata": {
        "id": "_mUO8NG2vi34"
      },
      "source": [
        "import torch\n",
        "import torch.nn as nn\n",
        "import numpy as np"
      ],
      "execution_count": 1,
      "outputs": []
    },
    {
      "cell_type": "code",
      "metadata": {
        "id": "JWxFhVIRzGj6"
      },
      "source": [
        "text = ['hey how are you', 'good i am fine', 'have a nice day']\n",
        "\n",
        "# extract unique characters \n",
        "chars = set(' '.join(text))\n",
        "\n",
        "# creating a dictionary that maps integer to the charachters\n",
        "int2char = dict(enumerate(chars))\n",
        "\n",
        "# creating a dictionary that maps characters to the integers\n",
        "char2int = {char: ind for ind, char in int2char.items()}"
      ],
      "execution_count": 2,
      "outputs": []
    },
    {
      "cell_type": "code",
      "metadata": {
        "colab": {
          "base_uri": "https://localhost:8080/"
        },
        "id": "Ik1PIMOJ5y7B",
        "outputId": "b624bb64-e3b5-482a-963f-6c1f73731239"
      },
      "source": [
        "print(int2char)\n",
        "print(char2int)"
      ],
      "execution_count": 3,
      "outputs": [
        {
          "output_type": "stream",
          "name": "stdout",
          "text": [
            "{0: 'm', 1: 'y', 2: 'o', 3: 'a', 4: 'n', 5: 'd', 6: 'u', 7: 'i', 8: 'w', 9: 'h', 10: ' ', 11: 'f', 12: 'v', 13: 'e', 14: 'c', 15: 'r', 16: 'g'}\n",
            "{'m': 0, 'y': 1, 'o': 2, 'a': 3, 'n': 4, 'd': 5, 'u': 6, 'i': 7, 'w': 8, 'h': 9, ' ': 10, 'f': 11, 'v': 12, 'e': 13, 'c': 14, 'r': 15, 'g': 16}\n"
          ]
        }
      ]
    },
    {
      "cell_type": "code",
      "metadata": {
        "colab": {
          "base_uri": "https://localhost:8080/"
        },
        "id": "BWLvJ-VI53ob",
        "outputId": "2ae68ddb-1d64-473c-f677-6c416adf1847"
      },
      "source": [
        "maxlen = len(max(text, key=len))\n",
        "maxlen # hey, how are you"
      ],
      "execution_count": 4,
      "outputs": [
        {
          "output_type": "execute_result",
          "data": {
            "text/plain": [
              "15"
            ]
          },
          "metadata": {},
          "execution_count": 4
        }
      ]
    },
    {
      "cell_type": "code",
      "metadata": {
        "id": "juC7RqcE6dJu"
      },
      "source": [
        "#padding\n",
        "for i in range(len(text)):\n",
        "    while len(text[i]) < maxlen:\n",
        "        text[i] += ' '"
      ],
      "execution_count": 5,
      "outputs": []
    },
    {
      "cell_type": "code",
      "metadata": {
        "colab": {
          "base_uri": "https://localhost:8080/"
        },
        "id": "Dw49-YLR7FAh",
        "outputId": "1fc05993-cc36-4752-b650-c7629397d485"
      },
      "source": [
        "# creating lists that will hold our input and target sequences\n",
        "input_seq = []\n",
        "target_seq = []\n",
        "\n",
        "for i in range(len(text)):\n",
        "    # remove last character for input sequence\n",
        "    input_seq.append(text[i][:-1])\n",
        "\n",
        "    # remove first charachter for target sequence\n",
        "    target_seq.append(text[i][1:])\n",
        "\n",
        "    print(\"Input sequence: {}\\nTarget Sequence: {}\".format(input_seq[i], target_seq[i]))"
      ],
      "execution_count": 6,
      "outputs": [
        {
          "output_type": "stream",
          "name": "stdout",
          "text": [
            "Input sequence: hey how are yo\n",
            "Target Sequence: ey how are you\n",
            "Input sequence: good i am fine\n",
            "Target Sequence: ood i am fine \n",
            "Input sequence: have a nice da\n",
            "Target Sequence: ave a nice day\n"
          ]
        }
      ]
    },
    {
      "cell_type": "code",
      "metadata": {
        "id": "8Ja_FBD979r_"
      },
      "source": [
        "for i in range(len(text)):\n",
        "    input_seq[i] = [char2int[character] for character in input_seq[i]]\n",
        "    target_seq[i] = [char2int[character] for character in target_seq[i]]"
      ],
      "execution_count": 7,
      "outputs": []
    },
    {
      "cell_type": "code",
      "metadata": {
        "id": "wQzqBzSmBYqI"
      },
      "source": [
        "dict_size = len(char2int)\n",
        "seq_len = maxlen - 1\n",
        "batch_size = len(text)\n",
        "\n",
        "def one_hot_encode(sequence, dict_size, seq_len, batch_size):\n",
        "    # Creating a multi-dimensional array of zeros with the desired output shape\n",
        "    features = np.zeros((batch_size, seq_len, dict_size), dtype=np.float32)\n",
        "    \n",
        "    # Replacing the 0 at the relevant character index with a 1 to represent that character\n",
        "    for i in range(batch_size):\n",
        "        for u in range(seq_len):\n",
        "            features[i, u, sequence[i][u]] = 1\n",
        "    return features"
      ],
      "execution_count": 8,
      "outputs": []
    },
    {
      "cell_type": "code",
      "metadata": {
        "id": "tEqHkiAMWDR-"
      },
      "source": [
        "# Input shape --> (batch size, sequence length, One-Hot Encoding Size)\n",
        "input_seq = one_hot_encode(input_seq,dict_size ,seq_len, batch_size)"
      ],
      "execution_count": 9,
      "outputs": []
    },
    {
      "cell_type": "code",
      "metadata": {
        "id": "i4i7K1OMWpGj"
      },
      "source": [
        "# convert to tensors\n",
        "input_seq = torch.from_numpy(input_seq)\n",
        "target_seq = torch.Tensor(target_seq)"
      ],
      "execution_count": 10,
      "outputs": []
    },
    {
      "cell_type": "code",
      "metadata": {
        "colab": {
          "base_uri": "https://localhost:8080/"
        },
        "id": "KfBh6faBXCak",
        "outputId": "c54db46b-57b5-4e0f-a4e4-24cc4f8eb1e5"
      },
      "source": [
        "is_cuda = torch.cuda.is_available()\n",
        "\n",
        "if is_cuda: \n",
        "    device = torch.device(\"cuda\")\n",
        "    print(\"GPU is available\")\n",
        "else:\n",
        "    device = torch.device(\"cpu\")\n",
        "    print(\"GPU not available, CPU used\")"
      ],
      "execution_count": 11,
      "outputs": [
        {
          "output_type": "stream",
          "name": "stdout",
          "text": [
            "GPU not available, CPU used\n"
          ]
        }
      ]
    },
    {
      "cell_type": "code",
      "metadata": {
        "id": "sS8x13uXXUxk"
      },
      "source": [
        "class RNN(nn.Module):\n",
        "    def __init__(self, input_size, output_size, hidden_dim, n_layers):\n",
        "        super(RNN, self).__init__()\n",
        "\n",
        "        # defining some parameters\n",
        "        self.hidden_dim = hidden_dim\n",
        "        self.n_layers = n_layers\n",
        "\n",
        "        # defining layers\n",
        "        self.rnn = nn.RNN(input_size, hidden_dim, n_layers, batch_first=True)\n",
        "        # fc layer\n",
        "        self.fc = nn.Linear(hidden_dim, output_size)\n",
        "    \n",
        "    def forward(self, x):\n",
        "        batch_size = x.size(0)\n",
        "\n",
        "        # initializing hidden state for first input using method defined below\n",
        "        hidden = self.init_hidden(batch_size)\n",
        "\n",
        "        # passing in the input and hidden state into the model and obtaining outputs\n",
        "        out, hidden = self.rnn(x, hidden)\n",
        "\n",
        "        # reshaping the outputs such that it can be fit into the fc layer\n",
        "        out = out.contiguous().view(-1, self.hidden_dim)\n",
        "        out = self.fc(out)\n",
        "\n",
        "        return out, hidden\n",
        "\n",
        "    def init_hidden(self, batch_size):\n",
        "        # This method generates the first hidden state of zeros which we'll use in the forward pass\n",
        "        # We'll send the tensor holding the hidden state to the device we specified earlier as well \n",
        "        hidden = torch.zeros(self.n_layers, batch_size, self.hidden_dim)\n",
        "        return hidden"
      ],
      "execution_count": 12,
      "outputs": []
    },
    {
      "cell_type": "code",
      "metadata": {
        "id": "OCCZ7oI1fd0H"
      },
      "source": [
        "model = RNN(input_size=dict_size, output_size=dict_size, hidden_dim=50, n_layers=2)\n",
        "model.to(device)\n",
        "\n",
        "n_epochs = 100\n",
        "lr = 0.01\n",
        "\n",
        "criterion = nn.CrossEntropyLoss()\n",
        "optimizer = torch.optim.Adam(model.parameters(), lr=lr)"
      ],
      "execution_count": 26,
      "outputs": []
    },
    {
      "cell_type": "code",
      "metadata": {
        "colab": {
          "base_uri": "https://localhost:8080/"
        },
        "id": "2m7QWG9dfyxn",
        "outputId": "4fd9f38e-e100-4e5a-e61f-b0e05954b478"
      },
      "source": [
        "for epoch in range(1, n_epochs + 1):\n",
        "    optimizer.zero_grad()\n",
        "    input_seq.to(device)\n",
        "    output, hidden = model(input_seq)\n",
        "    loss = criterion(output, target_seq.view(-1).long())\n",
        "    loss.backward()\n",
        "    optimizer.step()\n",
        "\n",
        "    if epoch%10 == 0:\n",
        "        print('Epoch: {}/{}.............'.format(epoch, n_epochs), end=' ')\n",
        "        print(\"Loss: {:.4f}\".format(loss.item()))"
      ],
      "execution_count": 27,
      "outputs": [
        {
          "output_type": "stream",
          "name": "stdout",
          "text": [
            "Epoch: 10/100............. Loss: 1.5287\n",
            "Epoch: 20/100............. Loss: 0.3435\n",
            "Epoch: 30/100............. Loss: 0.0805\n",
            "Epoch: 40/100............. Loss: 0.0441\n",
            "Epoch: 50/100............. Loss: 0.0378\n",
            "Epoch: 60/100............. Loss: 0.0361\n",
            "Epoch: 70/100............. Loss: 0.0354\n",
            "Epoch: 80/100............. Loss: 0.0350\n",
            "Epoch: 90/100............. Loss: 0.0348\n",
            "Epoch: 100/100............. Loss: 0.0346\n"
          ]
        }
      ]
    },
    {
      "cell_type": "code",
      "metadata": {
        "id": "R1Y4GbtLhgHc"
      },
      "source": [
        "# this function takes in the model and character as arguments\n",
        "# and returns the next character prediction\n",
        "\n",
        "def predict(model, character):\n",
        "    character = np.array([[char2int[c] for c in character]])\n",
        "    character = one_hot_encode(character, dict_size, character.shape[1], 1)\n",
        "    character = torch.from_numpy(character)\n",
        "    character.to(device)\n",
        "\n",
        "    out, hidden = model(character)\n",
        "\n",
        "    prob = nn.functional.softmax(out[-1], dim=0).data\n",
        "    char_ind = torch.max(prob, dim=0)[1].item()\n",
        "\n",
        "    return int2char[char_ind], hidden"
      ],
      "execution_count": 15,
      "outputs": []
    },
    {
      "cell_type": "code",
      "metadata": {
        "id": "xcxl4kYhieJd"
      },
      "source": [
        "# This function takes the desired output length and input characters as arguments, returning the produced sentence\n",
        "def sample(model, out_len, start='hey'):\n",
        "    model.eval() # eval mode\n",
        "    start = start.lower()\n",
        "    # First off, run through the starting characters\n",
        "    chars = [ch for ch in start]\n",
        "    size = out_len - len(chars)\n",
        "    # Now pass in the previous characters and get a new one\n",
        "    for ii in range(size):\n",
        "        char, h = predict(model, chars)\n",
        "        chars.append(char)\n",
        "\n",
        "    return ''.join(chars)"
      ],
      "execution_count": 16,
      "outputs": []
    },
    {
      "cell_type": "code",
      "metadata": {
        "colab": {
          "base_uri": "https://localhost:8080/",
          "height": 35
        },
        "id": "GmLLuObCiiWI",
        "outputId": "dc0afe3f-e1ff-49f4-9e41-4169861f8668"
      },
      "source": [
        "sample(model, 15, 'good')"
      ],
      "execution_count": 17,
      "outputs": [
        {
          "output_type": "execute_result",
          "data": {
            "application/vnd.google.colaboratory.intrinsic+json": {
              "type": "string"
            },
            "text/plain": [
              "'good i am fine '"
            ]
          },
          "metadata": {},
          "execution_count": 17
        }
      ]
    }
  ]
}